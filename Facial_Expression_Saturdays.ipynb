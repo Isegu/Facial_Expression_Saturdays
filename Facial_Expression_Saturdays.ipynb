{
 "cells": [
  {
   "cell_type": "markdown",
   "metadata": {
    "colab_type": "text",
    "id": "7mB-O_VvhJXQ"
   },
   "source": [
    "# **AISaturdays ECG Challenge**\n",
    "\n",
    "![AISaturdays](https://www.saturdays.ai/assets/images/ai-saturdays-122x122.png)\n",
    "\n",
    "Bienvenidas todas las personas al reto de esta semana. Esta vez detectaremos casos de enfermedad cardiovascular a través del análisis de electrocardiogramas (ECG) de los latidos del corazón.\n",
    "\n",
    "**Instrucciones:**\n",
    "\n",
    "- Se usará el lenguaje de programación Python 3.\n",
    "- Se usarán las librerías de python: Pandas, MatPlotLib, Numpy y keras.\n",
    "\n",
    "**Mediante este ejercicio, aprenderemos:**\n",
    "- Entender y ejecutar los NoteBooks con Python.\n",
    "- Ser capaz de utilizar funciones de Python y librerías adicionales.\n",
    "- Dataset:\n",
    " - Obtener el dataset y previsualizar la información del dataset.\n",
    " - Limpiar y normalizar la información del dataset.\n",
    " - Representar y analizar la información del dataset.\n",
    "- Aplicar un modelo de NN .\n",
    "- Mejorar la predicción optimizando el modelo.\n",
    "\n",
    "Este ejercicio está basado en un [paper](https://arxiv.org/pdf/1805.00794.pdf) que resuelve el problema al que nos enfrentamos. Tomadlo como una fuente de inspiración.\n",
    "\n",
    "¡Empecemos!"
   ]
  },
  {
   "cell_type": "markdown",
   "metadata": {
    "colab_type": "text",
    "id": "ao9twkE1hJXS"
   },
   "source": [
    "### 0. Importación de librerías"
   ]
  },
  {
   "cell_type": "code",
   "execution_count": 1,
   "metadata": {
    "colab": {},
    "colab_type": "code",
    "id": "Pky60QgthJXT"
   },
   "outputs": [],
   "source": [
    "import pandas as pd\n",
    "import matplotlib.pyplot as plt\n",
    "import numpy as np"
   ]
  },
  {
   "cell_type": "markdown",
   "metadata": {
    "colab_type": "text",
    "id": "l1jYJBHThJXU"
   },
   "source": [
    "## Análisis de datos"
   ]
  },
  {
   "cell_type": "markdown",
   "metadata": {
    "colab_type": "text",
    "id": "mujwvIabhJXU"
   },
   "source": [
    "### 1. Importa el dataset.\n",
    "\n"
   ]
  },
  {
   "cell_type": "code",
   "execution_count": 2,
   "metadata": {
    "colab": {},
    "colab_type": "code",
    "id": "5fsEI219hJXV"
   },
   "outputs": [],
   "source": [
    "#Solo una linea de código.\n",
    "df = pd.read_csv('mitbih_train.csv')"
   ]
  },
  {
   "cell_type": "markdown",
   "metadata": {
    "colab_type": "text",
    "id": "PZFp_wYchJXa"
   },
   "source": [
    "### 2. ¿Qué forma tiene el dataset?"
   ]
  },
  {
   "cell_type": "code",
   "execution_count": 3,
   "metadata": {
    "colab": {},
    "colab_type": "code",
    "id": "JoTfVW45hJXb",
    "outputId": "8d25202a-eaef-4684-8a99-f5ee1e984019"
   },
   "outputs": [
    {
     "data": {
      "text/plain": [
       "(87553, 188)"
      ]
     },
     "execution_count": 3,
     "metadata": {},
     "output_type": "execute_result"
    }
   ],
   "source": [
    "#Solo una linea de código.\n",
    "df.shape"
   ]
  },
  {
   "cell_type": "markdown",
   "metadata": {
    "colab_type": "text",
    "id": "pFsJVphghJXf"
   },
   "source": [
    "### 3. Vamos a ver cómo son los datos. Muestra las primero cinco filas del dataset."
   ]
  },
  {
   "cell_type": "code",
   "execution_count": 4,
   "metadata": {
    "colab": {},
    "colab_type": "code",
    "id": "Q39SynfYhJXg",
    "outputId": "1f938576-7582-4be6-b6ae-e2617585fd6e",
    "scrolled": true
   },
   "outputs": [
    {
     "data": {
      "text/html": [
       "<div>\n",
       "<style scoped>\n",
       "    .dataframe tbody tr th:only-of-type {\n",
       "        vertical-align: middle;\n",
       "    }\n",
       "\n",
       "    .dataframe tbody tr th {\n",
       "        vertical-align: top;\n",
       "    }\n",
       "\n",
       "    .dataframe thead th {\n",
       "        text-align: right;\n",
       "    }\n",
       "</style>\n",
       "<table border=\"1\" class=\"dataframe\">\n",
       "  <thead>\n",
       "    <tr style=\"text-align: right;\">\n",
       "      <th></th>\n",
       "      <th>9.779411554336547852e-01</th>\n",
       "      <th>9.264705777168273926e-01</th>\n",
       "      <th>6.813725233078002930e-01</th>\n",
       "      <th>2.450980395078659058e-01</th>\n",
       "      <th>1.544117629528045654e-01</th>\n",
       "      <th>1.911764740943908691e-01</th>\n",
       "      <th>1.519607901573181152e-01</th>\n",
       "      <th>8.578431606292724609e-02</th>\n",
       "      <th>5.882352963089942932e-02</th>\n",
       "      <th>4.901960864663124084e-02</th>\n",
       "      <th>...</th>\n",
       "      <th>0.000000000000000000e+00.79</th>\n",
       "      <th>0.000000000000000000e+00.80</th>\n",
       "      <th>0.000000000000000000e+00.81</th>\n",
       "      <th>0.000000000000000000e+00.82</th>\n",
       "      <th>0.000000000000000000e+00.83</th>\n",
       "      <th>0.000000000000000000e+00.84</th>\n",
       "      <th>0.000000000000000000e+00.85</th>\n",
       "      <th>0.000000000000000000e+00.86</th>\n",
       "      <th>0.000000000000000000e+00.87</th>\n",
       "      <th>0.000000000000000000e+00.88</th>\n",
       "    </tr>\n",
       "  </thead>\n",
       "  <tbody>\n",
       "    <tr>\n",
       "      <th>0</th>\n",
       "      <td>0.960114</td>\n",
       "      <td>0.863248</td>\n",
       "      <td>0.461538</td>\n",
       "      <td>0.196581</td>\n",
       "      <td>0.094017</td>\n",
       "      <td>0.125356</td>\n",
       "      <td>0.099715</td>\n",
       "      <td>0.088319</td>\n",
       "      <td>0.074074</td>\n",
       "      <td>0.082621</td>\n",
       "      <td>...</td>\n",
       "      <td>0.0</td>\n",
       "      <td>0.0</td>\n",
       "      <td>0.0</td>\n",
       "      <td>0.0</td>\n",
       "      <td>0.0</td>\n",
       "      <td>0.0</td>\n",
       "      <td>0.0</td>\n",
       "      <td>0.0</td>\n",
       "      <td>0.0</td>\n",
       "      <td>0.0</td>\n",
       "    </tr>\n",
       "    <tr>\n",
       "      <th>1</th>\n",
       "      <td>1.000000</td>\n",
       "      <td>0.659459</td>\n",
       "      <td>0.186486</td>\n",
       "      <td>0.070270</td>\n",
       "      <td>0.070270</td>\n",
       "      <td>0.059459</td>\n",
       "      <td>0.056757</td>\n",
       "      <td>0.043243</td>\n",
       "      <td>0.054054</td>\n",
       "      <td>0.045946</td>\n",
       "      <td>...</td>\n",
       "      <td>0.0</td>\n",
       "      <td>0.0</td>\n",
       "      <td>0.0</td>\n",
       "      <td>0.0</td>\n",
       "      <td>0.0</td>\n",
       "      <td>0.0</td>\n",
       "      <td>0.0</td>\n",
       "      <td>0.0</td>\n",
       "      <td>0.0</td>\n",
       "      <td>0.0</td>\n",
       "    </tr>\n",
       "    <tr>\n",
       "      <th>2</th>\n",
       "      <td>0.925414</td>\n",
       "      <td>0.665746</td>\n",
       "      <td>0.541436</td>\n",
       "      <td>0.276243</td>\n",
       "      <td>0.196133</td>\n",
       "      <td>0.077348</td>\n",
       "      <td>0.071823</td>\n",
       "      <td>0.060773</td>\n",
       "      <td>0.066298</td>\n",
       "      <td>0.058011</td>\n",
       "      <td>...</td>\n",
       "      <td>0.0</td>\n",
       "      <td>0.0</td>\n",
       "      <td>0.0</td>\n",
       "      <td>0.0</td>\n",
       "      <td>0.0</td>\n",
       "      <td>0.0</td>\n",
       "      <td>0.0</td>\n",
       "      <td>0.0</td>\n",
       "      <td>0.0</td>\n",
       "      <td>0.0</td>\n",
       "    </tr>\n",
       "    <tr>\n",
       "      <th>3</th>\n",
       "      <td>0.967136</td>\n",
       "      <td>1.000000</td>\n",
       "      <td>0.830986</td>\n",
       "      <td>0.586854</td>\n",
       "      <td>0.356808</td>\n",
       "      <td>0.248826</td>\n",
       "      <td>0.145540</td>\n",
       "      <td>0.089202</td>\n",
       "      <td>0.117371</td>\n",
       "      <td>0.150235</td>\n",
       "      <td>...</td>\n",
       "      <td>0.0</td>\n",
       "      <td>0.0</td>\n",
       "      <td>0.0</td>\n",
       "      <td>0.0</td>\n",
       "      <td>0.0</td>\n",
       "      <td>0.0</td>\n",
       "      <td>0.0</td>\n",
       "      <td>0.0</td>\n",
       "      <td>0.0</td>\n",
       "      <td>0.0</td>\n",
       "    </tr>\n",
       "    <tr>\n",
       "      <th>4</th>\n",
       "      <td>0.927461</td>\n",
       "      <td>1.000000</td>\n",
       "      <td>0.626943</td>\n",
       "      <td>0.193437</td>\n",
       "      <td>0.094991</td>\n",
       "      <td>0.072539</td>\n",
       "      <td>0.043178</td>\n",
       "      <td>0.053541</td>\n",
       "      <td>0.093264</td>\n",
       "      <td>0.189983</td>\n",
       "      <td>...</td>\n",
       "      <td>0.0</td>\n",
       "      <td>0.0</td>\n",
       "      <td>0.0</td>\n",
       "      <td>0.0</td>\n",
       "      <td>0.0</td>\n",
       "      <td>0.0</td>\n",
       "      <td>0.0</td>\n",
       "      <td>0.0</td>\n",
       "      <td>0.0</td>\n",
       "      <td>0.0</td>\n",
       "    </tr>\n",
       "  </tbody>\n",
       "</table>\n",
       "<p>5 rows × 188 columns</p>\n",
       "</div>"
      ],
      "text/plain": [
       "   9.779411554336547852e-01  9.264705777168273926e-01  \\\n",
       "0                  0.960114                  0.863248   \n",
       "1                  1.000000                  0.659459   \n",
       "2                  0.925414                  0.665746   \n",
       "3                  0.967136                  1.000000   \n",
       "4                  0.927461                  1.000000   \n",
       "\n",
       "   6.813725233078002930e-01  2.450980395078659058e-01  \\\n",
       "0                  0.461538                  0.196581   \n",
       "1                  0.186486                  0.070270   \n",
       "2                  0.541436                  0.276243   \n",
       "3                  0.830986                  0.586854   \n",
       "4                  0.626943                  0.193437   \n",
       "\n",
       "   1.544117629528045654e-01  1.911764740943908691e-01  \\\n",
       "0                  0.094017                  0.125356   \n",
       "1                  0.070270                  0.059459   \n",
       "2                  0.196133                  0.077348   \n",
       "3                  0.356808                  0.248826   \n",
       "4                  0.094991                  0.072539   \n",
       "\n",
       "   1.519607901573181152e-01  8.578431606292724609e-02  \\\n",
       "0                  0.099715                  0.088319   \n",
       "1                  0.056757                  0.043243   \n",
       "2                  0.071823                  0.060773   \n",
       "3                  0.145540                  0.089202   \n",
       "4                  0.043178                  0.053541   \n",
       "\n",
       "   5.882352963089942932e-02  4.901960864663124084e-02  ...  \\\n",
       "0                  0.074074                  0.082621  ...   \n",
       "1                  0.054054                  0.045946  ...   \n",
       "2                  0.066298                  0.058011  ...   \n",
       "3                  0.117371                  0.150235  ...   \n",
       "4                  0.093264                  0.189983  ...   \n",
       "\n",
       "   0.000000000000000000e+00.79  0.000000000000000000e+00.80  \\\n",
       "0                          0.0                          0.0   \n",
       "1                          0.0                          0.0   \n",
       "2                          0.0                          0.0   \n",
       "3                          0.0                          0.0   \n",
       "4                          0.0                          0.0   \n",
       "\n",
       "   0.000000000000000000e+00.81  0.000000000000000000e+00.82  \\\n",
       "0                          0.0                          0.0   \n",
       "1                          0.0                          0.0   \n",
       "2                          0.0                          0.0   \n",
       "3                          0.0                          0.0   \n",
       "4                          0.0                          0.0   \n",
       "\n",
       "   0.000000000000000000e+00.83  0.000000000000000000e+00.84  \\\n",
       "0                          0.0                          0.0   \n",
       "1                          0.0                          0.0   \n",
       "2                          0.0                          0.0   \n",
       "3                          0.0                          0.0   \n",
       "4                          0.0                          0.0   \n",
       "\n",
       "   0.000000000000000000e+00.85  0.000000000000000000e+00.86  \\\n",
       "0                          0.0                          0.0   \n",
       "1                          0.0                          0.0   \n",
       "2                          0.0                          0.0   \n",
       "3                          0.0                          0.0   \n",
       "4                          0.0                          0.0   \n",
       "\n",
       "   0.000000000000000000e+00.87  0.000000000000000000e+00.88  \n",
       "0                          0.0                          0.0  \n",
       "1                          0.0                          0.0  \n",
       "2                          0.0                          0.0  \n",
       "3                          0.0                          0.0  \n",
       "4                          0.0                          0.0  \n",
       "\n",
       "[5 rows x 188 columns]"
      ]
     },
     "execution_count": 4,
     "metadata": {},
     "output_type": "execute_result"
    }
   ],
   "source": [
    "#Solo una linea de código.\n",
    "df.head(5)"
   ]
  },
  {
   "cell_type": "markdown",
   "metadata": {
    "colab_type": "text",
    "id": "Q40at1iFhJXj"
   },
   "source": [
    "Este es el dataset de hoy. Esta vez, cada columna representa una lectura del electrocardiograma (recogido a 125Hz). Si en total hay 187 lecturas, en estas columnas tenemos alrededor de segundo y medio de pulsaciones. La última columna contiene la categoría a la que pertenecen estas pulsaciones. En total hay cinco, cada una representada por un número: \n",
    "\n",
    "- Normal: 0\n",
    "- Arritmia prematura (atrial, aberrante-atrial, nodal o supra-ventricular) : 1\n",
    "- Contracción prematura ventricular o escape ventricular: 2\n",
    "- Fusión de la contracción ventricular y normal: 3\n",
    "- Resucitación, fusión de normal y resucitación o inclasificable: 4\n"
   ]
  },
  {
   "cell_type": "markdown",
   "metadata": {
    "colab_type": "text",
    "id": "QUcQbT7shJXk"
   },
   "source": [
    "### 4. Describe la distribución de los datos."
   ]
  },
  {
   "cell_type": "code",
   "execution_count": 11,
   "metadata": {
    "colab": {},
    "colab_type": "code",
    "id": "U28kFZeuhJXl",
    "outputId": "82ac2fc3-8cfc-4dcf-bb07-44dfdb4f1e2d"
   },
   "outputs": [
    {
     "data": {
      "text/html": [
       "<div>\n",
       "<style scoped>\n",
       "    .dataframe tbody tr th:only-of-type {\n",
       "        vertical-align: middle;\n",
       "    }\n",
       "\n",
       "    .dataframe tbody tr th {\n",
       "        vertical-align: top;\n",
       "    }\n",
       "\n",
       "    .dataframe thead th {\n",
       "        text-align: right;\n",
       "    }\n",
       "</style>\n",
       "<table border=\"1\" class=\"dataframe\">\n",
       "  <thead>\n",
       "    <tr style=\"text-align: right;\">\n",
       "      <th></th>\n",
       "      <th>9.779411554336547852e-01</th>\n",
       "      <th>9.264705777168273926e-01</th>\n",
       "      <th>6.813725233078002930e-01</th>\n",
       "      <th>2.450980395078659058e-01</th>\n",
       "      <th>1.544117629528045654e-01</th>\n",
       "      <th>1.911764740943908691e-01</th>\n",
       "      <th>1.519607901573181152e-01</th>\n",
       "      <th>8.578431606292724609e-02</th>\n",
       "      <th>5.882352963089942932e-02</th>\n",
       "      <th>4.901960864663124084e-02</th>\n",
       "      <th>...</th>\n",
       "      <th>0.000000000000000000e+00.79</th>\n",
       "      <th>0.000000000000000000e+00.80</th>\n",
       "      <th>0.000000000000000000e+00.81</th>\n",
       "      <th>0.000000000000000000e+00.82</th>\n",
       "      <th>0.000000000000000000e+00.83</th>\n",
       "      <th>0.000000000000000000e+00.84</th>\n",
       "      <th>0.000000000000000000e+00.85</th>\n",
       "      <th>0.000000000000000000e+00.86</th>\n",
       "      <th>0.000000000000000000e+00.87</th>\n",
       "      <th>0.000000000000000000e+00.88</th>\n",
       "    </tr>\n",
       "  </thead>\n",
       "  <tbody>\n",
       "    <tr>\n",
       "      <th>count</th>\n",
       "      <td>87553.000000</td>\n",
       "      <td>87553.000000</td>\n",
       "      <td>87553.000000</td>\n",
       "      <td>87553.000000</td>\n",
       "      <td>87553.000000</td>\n",
       "      <td>87553.000000</td>\n",
       "      <td>87553.000000</td>\n",
       "      <td>87553.000000</td>\n",
       "      <td>87553.000000</td>\n",
       "      <td>87553.000000</td>\n",
       "      <td>...</td>\n",
       "      <td>87553.000000</td>\n",
       "      <td>87553.000000</td>\n",
       "      <td>87553.000000</td>\n",
       "      <td>87553.000000</td>\n",
       "      <td>87553.000000</td>\n",
       "      <td>87553.000000</td>\n",
       "      <td>87553.000000</td>\n",
       "      <td>87553.000000</td>\n",
       "      <td>87553.000000</td>\n",
       "      <td>87553.000000</td>\n",
       "    </tr>\n",
       "    <tr>\n",
       "      <th>mean</th>\n",
       "      <td>0.890359</td>\n",
       "      <td>0.758158</td>\n",
       "      <td>0.423969</td>\n",
       "      <td>0.219104</td>\n",
       "      <td>0.201127</td>\n",
       "      <td>0.210399</td>\n",
       "      <td>0.205809</td>\n",
       "      <td>0.201774</td>\n",
       "      <td>0.198693</td>\n",
       "      <td>0.196758</td>\n",
       "      <td>...</td>\n",
       "      <td>0.005025</td>\n",
       "      <td>0.004628</td>\n",
       "      <td>0.004291</td>\n",
       "      <td>0.003945</td>\n",
       "      <td>0.003681</td>\n",
       "      <td>0.003471</td>\n",
       "      <td>0.003221</td>\n",
       "      <td>0.002945</td>\n",
       "      <td>0.002807</td>\n",
       "      <td>0.473382</td>\n",
       "    </tr>\n",
       "    <tr>\n",
       "      <th>std</th>\n",
       "      <td>0.240910</td>\n",
       "      <td>0.221814</td>\n",
       "      <td>0.227305</td>\n",
       "      <td>0.206880</td>\n",
       "      <td>0.177058</td>\n",
       "      <td>0.171910</td>\n",
       "      <td>0.178482</td>\n",
       "      <td>0.177241</td>\n",
       "      <td>0.171778</td>\n",
       "      <td>0.168358</td>\n",
       "      <td>...</td>\n",
       "      <td>0.044155</td>\n",
       "      <td>0.042089</td>\n",
       "      <td>0.040525</td>\n",
       "      <td>0.038651</td>\n",
       "      <td>0.037193</td>\n",
       "      <td>0.036255</td>\n",
       "      <td>0.034790</td>\n",
       "      <td>0.032865</td>\n",
       "      <td>0.031924</td>\n",
       "      <td>1.143190</td>\n",
       "    </tr>\n",
       "    <tr>\n",
       "      <th>min</th>\n",
       "      <td>0.000000</td>\n",
       "      <td>0.000000</td>\n",
       "      <td>0.000000</td>\n",
       "      <td>0.000000</td>\n",
       "      <td>0.000000</td>\n",
       "      <td>0.000000</td>\n",
       "      <td>0.000000</td>\n",
       "      <td>0.000000</td>\n",
       "      <td>0.000000</td>\n",
       "      <td>0.000000</td>\n",
       "      <td>...</td>\n",
       "      <td>0.000000</td>\n",
       "      <td>0.000000</td>\n",
       "      <td>0.000000</td>\n",
       "      <td>0.000000</td>\n",
       "      <td>0.000000</td>\n",
       "      <td>0.000000</td>\n",
       "      <td>0.000000</td>\n",
       "      <td>0.000000</td>\n",
       "      <td>0.000000</td>\n",
       "      <td>0.000000</td>\n",
       "    </tr>\n",
       "    <tr>\n",
       "      <th>25%</th>\n",
       "      <td>0.921922</td>\n",
       "      <td>0.682482</td>\n",
       "      <td>0.250965</td>\n",
       "      <td>0.048458</td>\n",
       "      <td>0.082329</td>\n",
       "      <td>0.088415</td>\n",
       "      <td>0.073333</td>\n",
       "      <td>0.066116</td>\n",
       "      <td>0.065000</td>\n",
       "      <td>0.068643</td>\n",
       "      <td>...</td>\n",
       "      <td>0.000000</td>\n",
       "      <td>0.000000</td>\n",
       "      <td>0.000000</td>\n",
       "      <td>0.000000</td>\n",
       "      <td>0.000000</td>\n",
       "      <td>0.000000</td>\n",
       "      <td>0.000000</td>\n",
       "      <td>0.000000</td>\n",
       "      <td>0.000000</td>\n",
       "      <td>0.000000</td>\n",
       "    </tr>\n",
       "    <tr>\n",
       "      <th>50%</th>\n",
       "      <td>0.991342</td>\n",
       "      <td>0.826007</td>\n",
       "      <td>0.429467</td>\n",
       "      <td>0.165992</td>\n",
       "      <td>0.147870</td>\n",
       "      <td>0.158798</td>\n",
       "      <td>0.145320</td>\n",
       "      <td>0.144424</td>\n",
       "      <td>0.150000</td>\n",
       "      <td>0.148734</td>\n",
       "      <td>...</td>\n",
       "      <td>0.000000</td>\n",
       "      <td>0.000000</td>\n",
       "      <td>0.000000</td>\n",
       "      <td>0.000000</td>\n",
       "      <td>0.000000</td>\n",
       "      <td>0.000000</td>\n",
       "      <td>0.000000</td>\n",
       "      <td>0.000000</td>\n",
       "      <td>0.000000</td>\n",
       "      <td>0.000000</td>\n",
       "    </tr>\n",
       "    <tr>\n",
       "      <th>75%</th>\n",
       "      <td>1.000000</td>\n",
       "      <td>0.910506</td>\n",
       "      <td>0.578767</td>\n",
       "      <td>0.341727</td>\n",
       "      <td>0.258993</td>\n",
       "      <td>0.287634</td>\n",
       "      <td>0.298246</td>\n",
       "      <td>0.295393</td>\n",
       "      <td>0.290837</td>\n",
       "      <td>0.283636</td>\n",
       "      <td>...</td>\n",
       "      <td>0.000000</td>\n",
       "      <td>0.000000</td>\n",
       "      <td>0.000000</td>\n",
       "      <td>0.000000</td>\n",
       "      <td>0.000000</td>\n",
       "      <td>0.000000</td>\n",
       "      <td>0.000000</td>\n",
       "      <td>0.000000</td>\n",
       "      <td>0.000000</td>\n",
       "      <td>0.000000</td>\n",
       "    </tr>\n",
       "    <tr>\n",
       "      <th>max</th>\n",
       "      <td>1.000000</td>\n",
       "      <td>1.000000</td>\n",
       "      <td>1.000000</td>\n",
       "      <td>1.000000</td>\n",
       "      <td>1.000000</td>\n",
       "      <td>1.000000</td>\n",
       "      <td>1.000000</td>\n",
       "      <td>1.000000</td>\n",
       "      <td>1.000000</td>\n",
       "      <td>1.000000</td>\n",
       "      <td>...</td>\n",
       "      <td>1.000000</td>\n",
       "      <td>1.000000</td>\n",
       "      <td>1.000000</td>\n",
       "      <td>1.000000</td>\n",
       "      <td>1.000000</td>\n",
       "      <td>1.000000</td>\n",
       "      <td>1.000000</td>\n",
       "      <td>1.000000</td>\n",
       "      <td>1.000000</td>\n",
       "      <td>4.000000</td>\n",
       "    </tr>\n",
       "  </tbody>\n",
       "</table>\n",
       "<p>8 rows × 188 columns</p>\n",
       "</div>"
      ],
      "text/plain": [
       "       9.779411554336547852e-01  9.264705777168273926e-01  \\\n",
       "count              87553.000000              87553.000000   \n",
       "mean                   0.890359                  0.758158   \n",
       "std                    0.240910                  0.221814   \n",
       "min                    0.000000                  0.000000   \n",
       "25%                    0.921922                  0.682482   \n",
       "50%                    0.991342                  0.826007   \n",
       "75%                    1.000000                  0.910506   \n",
       "max                    1.000000                  1.000000   \n",
       "\n",
       "       6.813725233078002930e-01  2.450980395078659058e-01  \\\n",
       "count              87553.000000              87553.000000   \n",
       "mean                   0.423969                  0.219104   \n",
       "std                    0.227305                  0.206880   \n",
       "min                    0.000000                  0.000000   \n",
       "25%                    0.250965                  0.048458   \n",
       "50%                    0.429467                  0.165992   \n",
       "75%                    0.578767                  0.341727   \n",
       "max                    1.000000                  1.000000   \n",
       "\n",
       "       1.544117629528045654e-01  1.911764740943908691e-01  \\\n",
       "count              87553.000000              87553.000000   \n",
       "mean                   0.201127                  0.210399   \n",
       "std                    0.177058                  0.171910   \n",
       "min                    0.000000                  0.000000   \n",
       "25%                    0.082329                  0.088415   \n",
       "50%                    0.147870                  0.158798   \n",
       "75%                    0.258993                  0.287634   \n",
       "max                    1.000000                  1.000000   \n",
       "\n",
       "       1.519607901573181152e-01  8.578431606292724609e-02  \\\n",
       "count              87553.000000              87553.000000   \n",
       "mean                   0.205809                  0.201774   \n",
       "std                    0.178482                  0.177241   \n",
       "min                    0.000000                  0.000000   \n",
       "25%                    0.073333                  0.066116   \n",
       "50%                    0.145320                  0.144424   \n",
       "75%                    0.298246                  0.295393   \n",
       "max                    1.000000                  1.000000   \n",
       "\n",
       "       5.882352963089942932e-02  4.901960864663124084e-02  ...  \\\n",
       "count              87553.000000              87553.000000  ...   \n",
       "mean                   0.198693                  0.196758  ...   \n",
       "std                    0.171778                  0.168358  ...   \n",
       "min                    0.000000                  0.000000  ...   \n",
       "25%                    0.065000                  0.068643  ...   \n",
       "50%                    0.150000                  0.148734  ...   \n",
       "75%                    0.290837                  0.283636  ...   \n",
       "max                    1.000000                  1.000000  ...   \n",
       "\n",
       "       0.000000000000000000e+00.79  0.000000000000000000e+00.80  \\\n",
       "count                 87553.000000                 87553.000000   \n",
       "mean                      0.005025                     0.004628   \n",
       "std                       0.044155                     0.042089   \n",
       "min                       0.000000                     0.000000   \n",
       "25%                       0.000000                     0.000000   \n",
       "50%                       0.000000                     0.000000   \n",
       "75%                       0.000000                     0.000000   \n",
       "max                       1.000000                     1.000000   \n",
       "\n",
       "       0.000000000000000000e+00.81  0.000000000000000000e+00.82  \\\n",
       "count                 87553.000000                 87553.000000   \n",
       "mean                      0.004291                     0.003945   \n",
       "std                       0.040525                     0.038651   \n",
       "min                       0.000000                     0.000000   \n",
       "25%                       0.000000                     0.000000   \n",
       "50%                       0.000000                     0.000000   \n",
       "75%                       0.000000                     0.000000   \n",
       "max                       1.000000                     1.000000   \n",
       "\n",
       "       0.000000000000000000e+00.83  0.000000000000000000e+00.84  \\\n",
       "count                 87553.000000                 87553.000000   \n",
       "mean                      0.003681                     0.003471   \n",
       "std                       0.037193                     0.036255   \n",
       "min                       0.000000                     0.000000   \n",
       "25%                       0.000000                     0.000000   \n",
       "50%                       0.000000                     0.000000   \n",
       "75%                       0.000000                     0.000000   \n",
       "max                       1.000000                     1.000000   \n",
       "\n",
       "       0.000000000000000000e+00.85  0.000000000000000000e+00.86  \\\n",
       "count                 87553.000000                 87553.000000   \n",
       "mean                      0.003221                     0.002945   \n",
       "std                       0.034790                     0.032865   \n",
       "min                       0.000000                     0.000000   \n",
       "25%                       0.000000                     0.000000   \n",
       "50%                       0.000000                     0.000000   \n",
       "75%                       0.000000                     0.000000   \n",
       "max                       1.000000                     1.000000   \n",
       "\n",
       "       0.000000000000000000e+00.87  0.000000000000000000e+00.88  \n",
       "count                 87553.000000                 87553.000000  \n",
       "mean                      0.002807                     0.473382  \n",
       "std                       0.031924                     1.143190  \n",
       "min                       0.000000                     0.000000  \n",
       "25%                       0.000000                     0.000000  \n",
       "50%                       0.000000                     0.000000  \n",
       "75%                       0.000000                     0.000000  \n",
       "max                       1.000000                     4.000000  \n",
       "\n",
       "[8 rows x 188 columns]"
      ]
     },
     "execution_count": 11,
     "metadata": {},
     "output_type": "execute_result"
    }
   ],
   "source": [
    "#Solo una linea de código.\n",
    "df.describe()"
   ]
  },
  {
   "cell_type": "markdown",
   "metadata": {
    "colab_type": "text",
    "id": "L2kz9b1jhJXo"
   },
   "source": [
    "### 5. Vamos a ver cómo es uno de estos electrocardiogramas. Haz una gráfica con los datos de una de las filas."
   ]
  },
  {
   "cell_type": "code",
   "execution_count": 10,
   "metadata": {
    "colab": {},
    "colab_type": "code",
    "id": "50XGDJS5hJXp",
    "outputId": "722340f3-5829-4b6c-ec44-b3fd9a3e4b13",
    "scrolled": true
   },
   "outputs": [
    {
     "data": {
      "text/plain": [
       "<AxesSubplot:>"
      ]
     },
     "execution_count": 10,
     "metadata": {},
     "output_type": "execute_result"
    },
    {
     "data": {
      "image/png": "[encoded data removed]",
      "text/plain": [
       "<Figure size 432x288 with 1 Axes>"
      ]
     },
     "metadata": {
      "needs_background": "light"
     },
     "output_type": "display_data"
    }
   ],
   "source": [
    "#Solo una linea de código.\n",
    "df.iloc[0].plot()"
   ]
  },
  {
   "cell_type": "markdown",
   "metadata": {
    "colab_type": "text",
    "id": "hGRsUDc_hJXt"
   },
   "source": [
    "### 6. Ahora que hemos visualizado nuestros datos, vamos a trabajar con ellos. Primero tenemos que dividirlos entre input y output. \n",
    "\n",
    "Divide el dataset en dos: una parte que contenga todas las columnas con datos del electrocardiograma y otro con las etiquetas. Transformar el dataset en un array de Numpy lo hace mas fácil porque puedes usar slicing. "
   ]
  },
  {
   "cell_type": "code",
   "execution_count": null,
   "metadata": {
    "colab": {},
    "colab_type": "code",
    "id": "VfVdyFcfhJXu"
   },
   "outputs": [],
   "source": [
    "#Tres lineas de código, usando .values y slicing.\n"
   ]
  },
  {
   "cell_type": "markdown",
   "metadata": {
    "colab_type": "text",
    "id": "4YloJfZUhJXw"
   },
   "source": [
    "### 7. Crea arrays con los índices de los ejemplos que pertenecen a cada categoría. La función [np.argwhere](https://docs.scipy.org/doc/numpy/reference/generated/numpy.argwhere.html) viene muy bien aquí. "
   ]
  },
  {
   "cell_type": "code",
   "execution_count": null,
   "metadata": {
    "colab": {},
    "colab_type": "code",
    "id": "Be68Gpi2hJXx"
   },
   "outputs": [],
   "source": [
    "#5 lineas de código\n"
   ]
  },
  {
   "cell_type": "markdown",
   "metadata": {
    "colab_type": "text",
    "id": "D8DFkW8bhJX0"
   },
   "source": [
    "### 8. Cuenta cuántos ejemplos tenemos de cada categoría."
   ]
  },
  {
   "cell_type": "code",
   "execution_count": null,
   "metadata": {
    "colab": {},
    "colab_type": "code",
    "id": "3lvyQIIBhJX0",
    "outputId": "10274d37-df9b-4ca0-bf58-429ccff39318",
    "scrolled": true
   },
   "outputs": [],
   "source": [
    "#5 lineas de código\n"
   ]
  },
  {
   "cell_type": "markdown",
   "metadata": {
    "colab_type": "text",
    "id": "UBlbXOgBhJX3"
   },
   "source": [
    "### 9. Para ver mejor cuántos tenemos de cada tipo vamos a hacer un gráfico de barras. Utiliza [plt.bar](https://matplotlib.org/3.1.1/api/_as_gen/matplotlib.pyplot.bar.html) con una label apropiada para cada barra."
   ]
  },
  {
   "cell_type": "code",
   "execution_count": null,
   "metadata": {
    "colab": {},
    "colab_type": "code",
    "id": "q-AMnfX0hJX3",
    "outputId": "0873d997-7f4d-407a-d3b0-9d6302b984d1"
   },
   "outputs": [],
   "source": [
    "#Dos lineas de código\n"
   ]
  },
  {
   "cell_type": "markdown",
   "metadata": {
    "colab_type": "text",
    "id": "zTemtlxIhJX9"
   },
   "source": [
    "### 10. Finalmente, vamos a comparar electrocardiogramas de un tipo con los otros con otra gráfica. Dibuja un electrocardiograma de cada tipo, uno encima del otro. Puntos extra por ponerle un título y leyenda."
   ]
  },
  {
   "cell_type": "code",
   "execution_count": null,
   "metadata": {
    "colab": {},
    "colab_type": "code",
    "id": "c5KjUhmHhJX9"
   },
   "outputs": [],
   "source": [
    "#6 lineas de código\n"
   ]
  },
  {
   "cell_type": "markdown",
   "metadata": {
    "colab_type": "text",
    "id": "Id6hugrmhJYA"
   },
   "source": [
    "## Preparación de datos"
   ]
  },
  {
   "cell_type": "markdown",
   "metadata": {
    "colab_type": "text",
    "id": "fAgikAoWhJYB"
   },
   "source": [
    "### 11. La mejor forma de tratar con categorias es utilizar un OneHotEncoding. Transforma Y a su OneHotEncoding."
   ]
  },
  {
   "cell_type": "code",
   "execution_count": null,
   "metadata": {
    "colab": {},
    "colab_type": "code",
    "id": "qIDdzcpihJYB"
   },
   "outputs": [],
   "source": [
    "#Dos lineas de código\n"
   ]
  },
  {
   "cell_type": "markdown",
   "metadata": {
    "colab_type": "text",
    "id": "9sSftNhMhJYD"
   },
   "source": [
    "### 12. Comprueba que el OneHotEncoding ha funcionado, es decir, que por cada columna en la Y original se han creado 5, y que los valores del original y el OneHotEncoding se corresponden entre sí."
   ]
  },
  {
   "cell_type": "code",
   "execution_count": null,
   "metadata": {
    "colab": {},
    "colab_type": "code",
    "id": "8xvZ_kwbhJYE",
    "outputId": "87de7a25-d38d-460b-a4be-23de53bcd09b"
   },
   "outputs": [],
   "source": [
    "#4 lineas de código\n"
   ]
  },
  {
   "cell_type": "markdown",
   "metadata": {
    "colab_type": "text",
    "id": "OH84gOWGhJYH"
   },
   "source": [
    "### 13. Mezcla X e Y de forma aleatoria (para que las etiquetas todavía se refieran a los ejemplos originales, usa [shuffle](https://scikit-learn.org/stable/modules/generated/sklearn.utils.shuffle.html))."
   ]
  },
  {
   "cell_type": "code",
   "execution_count": null,
   "metadata": {
    "colab": {},
    "colab_type": "code",
    "id": "1AWwJCX7hJYH"
   },
   "outputs": [],
   "source": [
    "#Dos lineas de código\n"
   ]
  },
  {
   "cell_type": "markdown",
   "metadata": {
    "colab_type": "text",
    "id": "T721f2zthJYQ"
   },
   "source": [
    "### 14. Para poder introducir los datos en el modelo, necesitamos que cada punto de información esté solo dentro del array (no podemos dar un array como valor). Antes teníamos los datos estructurados así:\n",
    "\n",
    "$ X = [[a_1,a_2,a_3...,a_n],[b_1,b_2,b_3...,b_n]...[z_1,z_2,z_3,z_n] $\n",
    "\n",
    "Para poder usarlos necesitamos aislar cada uno de esos valores, sin eliminar su agrupación por ejemplos. Es decir:\n",
    "\n",
    "$ X = [[[a_1],[a_2],[a_3]...,[a_n]],[[b_1],[b_2],[b_3]...,[b_n]]...[[z_1],[z_2],[z_3],[z_n]] $\n",
    "\n",
    "Esto se consigue utilizando la función [expand_dims](https://docs.scipy.org/doc/numpy/reference/generated/numpy.expand_dims.html) de numpy."
   ]
  },
  {
   "cell_type": "code",
   "execution_count": null,
   "metadata": {
    "colab": {},
    "colab_type": "code",
    "id": "ITtKUKQhhJYR"
   },
   "outputs": [],
   "source": [
    "#Solo una linea de código\n"
   ]
  },
  {
   "cell_type": "markdown",
   "metadata": {
    "colab_type": "text",
    "id": "-giOiqiYhJYT"
   },
   "source": [
    "### 15. ¡Ya casi estamos! Solo nos queda hacer un train_test_split y estaría todo listo para implementar el modelo."
   ]
  },
  {
   "cell_type": "code",
   "execution_count": null,
   "metadata": {
    "colab": {},
    "colab_type": "code",
    "id": "js6uqn4BhJYU"
   },
   "outputs": [],
   "source": [
    "#Dos lineas de código\n"
   ]
  },
  {
   "cell_type": "markdown",
   "metadata": {
    "colab_type": "text",
    "id": "S2OXup6RhJYW"
   },
   "source": [
    "## Modelos prometedores"
   ]
  },
  {
   "cell_type": "markdown",
   "metadata": {
    "colab_type": "text",
    "id": "ye1mPrYohJYW"
   },
   "source": [
    "En esta parte del challenge os planteamos un modelo ya creado para que podais ver como funciona y trastear con los diferentes parámetros. "
   ]
  },
  {
   "cell_type": "markdown",
   "metadata": {
    "colab_type": "text",
    "id": "GHGzAc55hJYX"
   },
   "source": [
    "Primero importamos unas pocas librerias para plantear el modelo:"
   ]
  },
  {
   "cell_type": "code",
   "execution_count": 8,
   "metadata": {
    "colab": {},
    "colab_type": "code",
    "id": "h7zqDfcAhJYX"
   },
   "outputs": [
    {
     "ename": "ModuleNotFoundError",
     "evalue": "No module named 'keras'",
     "output_type": "error",
     "traceback": [
      "\u001b[1;31m---------------------------------------------------------------------------\u001b[0m",
      "\u001b[1;31mModuleNotFoundError\u001b[0m                       Traceback (most recent call last)",
      "\u001b[1;32m<ipython-input-8-6cd3af4470a2>\u001b[0m in \u001b[0;36m<module>\u001b[1;34m\u001b[0m\n\u001b[0;32m      2\u001b[0m \u001b[1;32mfrom\u001b[0m \u001b[0msklearn\u001b[0m\u001b[1;33m.\u001b[0m\u001b[0mmetrics\u001b[0m \u001b[1;32mimport\u001b[0m \u001b[0mconfusion_matrix\u001b[0m\u001b[1;33m\u001b[0m\u001b[1;33m\u001b[0m\u001b[0m\n\u001b[0;32m      3\u001b[0m \u001b[1;33m\u001b[0m\u001b[0m\n\u001b[1;32m----> 4\u001b[1;33m \u001b[1;32mimport\u001b[0m \u001b[0mkeras\u001b[0m\u001b[1;33m\u001b[0m\u001b[1;33m\u001b[0m\u001b[0m\n\u001b[0m\u001b[0;32m      5\u001b[0m \u001b[1;32mfrom\u001b[0m \u001b[0mkeras\u001b[0m\u001b[1;33m.\u001b[0m\u001b[0mlayers\u001b[0m \u001b[1;32mimport\u001b[0m \u001b[0mDense\u001b[0m\u001b[1;33m,\u001b[0m \u001b[0mDropout\u001b[0m\u001b[1;33m,\u001b[0m \u001b[0mActivation\u001b[0m\u001b[1;33m,\u001b[0m \u001b[0mFlatten\u001b[0m\u001b[1;33m,\u001b[0m \u001b[0mConv1D\u001b[0m\u001b[1;33m,\u001b[0m \u001b[0mConv2D\u001b[0m\u001b[1;33m,\u001b[0m \u001b[0mMaxPooling1D\u001b[0m\u001b[1;33m,\u001b[0m \u001b[0mMaxPooling2D\u001b[0m\u001b[1;33m,\u001b[0m \u001b[0mLambda\u001b[0m\u001b[1;33m,\u001b[0m \u001b[0mMaxPool2D\u001b[0m\u001b[1;33m,\u001b[0m \u001b[0mBatchNormalization\u001b[0m\u001b[1;33m\u001b[0m\u001b[1;33m\u001b[0m\u001b[0m\n\u001b[0;32m      6\u001b[0m \u001b[1;32mfrom\u001b[0m \u001b[0mkeras\u001b[0m\u001b[1;33m.\u001b[0m\u001b[0mutils\u001b[0m \u001b[1;32mimport\u001b[0m \u001b[0mnp_utils\u001b[0m\u001b[1;33m\u001b[0m\u001b[1;33m\u001b[0m\u001b[0m\n",
      "\u001b[1;31mModuleNotFoundError\u001b[0m: No module named 'keras'"
     ]
    }
   ],
   "source": [
    "from sklearn import model_selection\n",
    "from sklearn.metrics import confusion_matrix\n",
    "\n",
    "import keras\n",
    "from keras.layers import Dense, Dropout, Activation, Flatten, Conv1D, Conv2D, MaxPooling1D, MaxPooling2D, Lambda, MaxPool2D, BatchNormalization\n",
    "from keras.utils import np_utils\n",
    "\n",
    "from keras import models, layers, optimizers\n",
    "from sklearn.model_selection import train_test_split\n",
    "from sklearn.metrics import confusion_matrix, accuracy_score\n",
    "from sklearn.utils import class_weight\n",
    "\n",
    "from keras.optimizers import SGD, RMSprop, Adam, Adagrad, Adadelta, RMSprop\n",
    "from keras.models import Sequential, model_from_json\n",
    "from keras.preprocessing.image import ImageDataGenerator\n",
    "from keras.callbacks import ReduceLROnPlateau, ModelCheckpoint\n",
    "from keras import backend as K\n",
    "from keras.applications.vgg16 import VGG16\n",
    "from keras.models import Model\n",
    "\n",
    "from sklearn.metrics import accuracy_score, classification_report, confusion_matrix, label_ranking_average_precision_score, label_ranking_loss, coverage_error \n",
    "import itertools"
   ]
  },
  {
   "cell_type": "markdown",
   "metadata": {
    "colab_type": "text",
    "id": "nC6AHHMvhJYZ"
   },
   "source": [
    "### 16. ¿Cuál es la longitud de la entrada? (Esta será la cantidad de neuronas que tendremos en la primera capa).¿Cuántas neuronas tendremos en nuestra última capa? También necesitamos un batch_size si queremos entrenar la red neuronal con SGD."
   ]
  },
  {
   "cell_type": "code",
   "execution_count": null,
   "metadata": {
    "colab": {},
    "colab_type": "code",
    "id": "_2t48inzhJYa"
   },
   "outputs": [],
   "source": [
    "signal_length = \n",
    "n_classes = \n",
    "batch_size = "
   ]
  },
  {
   "cell_type": "markdown",
   "metadata": {
    "colab_type": "text",
    "id": "9W8F-CVJhJYd"
   },
   "source": [
    "Este es el modelo de la red neuronal. Tiene cuatro capas, dos de ellas ocultas, y utiliza como función de activación ReLU, sigmoid y softmax. "
   ]
  },
  {
   "cell_type": "code",
   "execution_count": null,
   "metadata": {
    "colab": {},
    "colab_type": "code",
    "id": "VBc_yhfThJYe",
    "outputId": "b60eb195-6c94-4a41-d75a-a00e94971fe7"
   },
   "outputs": [],
   "source": [
    "model = Sequential()\n",
    "\n",
    "model.add(Conv1D(32, kernel_size=(5), input_shape=(signal_length, 1)))\n",
    "model.add(Dropout(0.5))\n",
    "model.add(BatchNormalization())\n",
    "model.add(Activation('relu'))\n",
    "\n",
    "model.add(Conv1D(32, (4)))\n",
    "model.add(Dropout(0.5))\n",
    "model.add(BatchNormalization())\n",
    "model.add(Activation('relu'))\n",
    "model.add(MaxPooling1D(pool_size=(2)))\n",
    "\n",
    "model.add(Conv1D(32, (4)))\n",
    "model.add(Dropout(0.5))\n",
    "model.add(BatchNormalization())\n",
    "model.add(Activation('relu'))\n",
    "model.add(MaxPooling1D(pool_size=(2)))\n",
    "\n",
    "model.add(Conv1D(32, (4)))\n",
    "model.add(Dropout(0.5))\n",
    "model.add(BatchNormalization())\n",
    "model.add(Activation('relu'))\n",
    "model.add(MaxPooling1D(pool_size=(2)))\n",
    "\n",
    "model.add(Flatten())\n",
    "\n",
    "model.add(Dense(128, activation='sigmoid'))\n",
    "model.add(Dropout(0.5))\n",
    "model.add(Dense(n_classes, activation='softmax'))\n",
    "\n",
    "\n",
    "model.summary()\n",
    "model.compile(loss=keras.losses.categorical_crossentropy, \n",
    "              optimizer=keras.optimizers.Adadelta(),\n",
    "              metrics=['accuracy'])\n"
   ]
  },
  {
   "cell_type": "markdown",
   "metadata": {
    "colab_type": "text",
    "id": "GdhXK-U1hJYg"
   },
   "source": [
    "Para compilar el modelo, se llama .compile(). Aquí se especifica que función de pérdida usamos, que optimizadores aplicamos y que métricas queremos guardar de cada epoch."
   ]
  },
  {
   "cell_type": "code",
   "execution_count": null,
   "metadata": {
    "colab": {},
    "colab_type": "code",
    "id": "CB5NPusjhJYg"
   },
   "outputs": [],
   "source": [
    "model.compile(loss='categorical_crossentropy', optimizer=Adam(), metrics=['accuracy'])"
   ]
  },
  {
   "cell_type": "markdown",
   "metadata": {
    "colab_type": "text",
    "id": "xFrpp2yShJYi"
   },
   "source": [
    "Ahora entrenamos el modelo un número de épocas y con una batch_size especifica. Esto nos devuelve un objeto history con la accuracy de todas las fases de entrenamiento."
   ]
  },
  {
   "cell_type": "code",
   "execution_count": null,
   "metadata": {
    "colab": {},
    "colab_type": "code",
    "id": "-mf7fDdchJYi",
    "outputId": "6656fc56-133a-4a48-bd49-77efaa251f63"
   },
   "outputs": [],
   "source": [
    "history = model.fit(X_train, y_train,\n",
    "                    epochs=75, \n",
    "                    batch_size=batch_size, \n",
    "                    verbose=1, \n",
    "                    validation_data=(X_test, y_test))"
   ]
  },
  {
   "cell_type": "markdown",
   "metadata": {
    "colab_type": "text",
    "id": "NliUnXSGhJYl"
   },
   "source": [
    "### 17. Accede a la accuracy histórica del modelo (con el atributo history)."
   ]
  },
  {
   "cell_type": "code",
   "execution_count": null,
   "metadata": {
    "colab": {},
    "colab_type": "code",
    "id": "aWds4b6ChJYl",
    "outputId": "a4255044-3b63-4b4d-adea-08a65c5da792"
   },
   "outputs": [],
   "source": [
    "#Solo una linea de código\n"
   ]
  },
  {
   "cell_type": "markdown",
   "metadata": {
    "colab_type": "text",
    "id": "xzB3t9CYhJYo"
   },
   "source": [
    "### 18. Ahora podemos ver si nuestro modelo está haciendo overfitting. Dibuja una gráfica con la accuracy en train y en validation usando los datos del objeto history."
   ]
  },
  {
   "cell_type": "code",
   "execution_count": null,
   "metadata": {
    "colab": {},
    "colab_type": "code",
    "id": "KP_SRAnphJYp",
    "outputId": "43c5e9ba-51c1-4adc-aaa2-fe1e4825d40b"
   },
   "outputs": [],
   "source": [
    "#Dos lineas de código\n"
   ]
  },
  {
   "cell_type": "markdown",
   "metadata": {
    "colab_type": "text",
    "id": "p2RC2_pghJYr"
   },
   "source": [
    "### 19. Lo mismo, pero con la pérdida o loss."
   ]
  },
  {
   "cell_type": "code",
   "execution_count": null,
   "metadata": {
    "colab": {},
    "colab_type": "code",
    "id": "eaJxqJWYhJYs",
    "outputId": "b320b106-1c86-4e5b-d9d4-a6f186e54b4b"
   },
   "outputs": [],
   "source": [
    "#Dos lineas de código\n"
   ]
  },
  {
   "cell_type": "markdown",
   "metadata": {
    "colab_type": "text",
    "id": "YFu3wMNZhJYv"
   },
   "source": [
    "### 20. Vamos a ver lo que predice con el X_test."
   ]
  },
  {
   "cell_type": "code",
   "execution_count": null,
   "metadata": {
    "colab": {},
    "colab_type": "code",
    "id": "vd1FIayQhJYw"
   },
   "outputs": [],
   "source": [
    "#Solo una linea de código\n"
   ]
  },
  {
   "cell_type": "markdown",
   "metadata": {
    "colab_type": "text",
    "id": "YVhxvfzLhJYy"
   },
   "source": [
    "### 21. ¿Qué dimensiones tiene la predicción y_pred?"
   ]
  },
  {
   "cell_type": "code",
   "execution_count": null,
   "metadata": {
    "colab": {},
    "colab_type": "code",
    "id": "6M4DrqzZhJYz",
    "outputId": "4fd63c75-7e76-4c07-e2be-29f6f5217ad6"
   },
   "outputs": [],
   "source": [
    "#Solo una linea de código\n"
   ]
  },
  {
   "cell_type": "markdown",
   "metadata": {
    "colab_type": "text",
    "id": "BBuCsReShJY2"
   },
   "source": [
    "### 22. Compara una predicción con el valor esperado utilizando un gráfico de barras."
   ]
  },
  {
   "cell_type": "code",
   "execution_count": null,
   "metadata": {
    "colab": {},
    "colab_type": "code",
    "id": "pGsxbYnWhJY3",
    "outputId": "61943267-f1d2-42c8-d9e3-2a57ee8de15e"
   },
   "outputs": [],
   "source": [
    "#Solo una linea de código\n"
   ]
  },
  {
   "cell_type": "markdown",
   "metadata": {
    "colab_type": "text",
    "id": "sXFer3AZhJY5"
   },
   "source": [
    "¿El modelo plantea una sola posibilidad o las probabilidades de cada categoria al estimar?"
   ]
  },
  {
   "cell_type": "markdown",
   "metadata": {
    "colab_type": "text",
    "id": "eoQVwwFhhJY5"
   },
   "source": [
    "Este snippet de código genera un report del modelo, y el siguiente una matriz de confusión. Utilizadlo para evaluar vuestro modelo."
   ]
  },
  {
   "cell_type": "code",
   "execution_count": null,
   "metadata": {
    "colab": {},
    "colab_type": "code",
    "id": "YX_k97bghJY6",
    "outputId": "53a2a5b0-49c7-4c98-c3e3-b1e5f225de73"
   },
   "outputs": [],
   "source": [
    "print(classification_report(y_test.argmax(axis=1), y_pred.argmax(axis=1)))"
   ]
  },
  {
   "cell_type": "code",
   "execution_count": null,
   "metadata": {
    "colab": {},
    "colab_type": "code",
    "id": "O3E_a95ihJY8",
    "outputId": "77424721-254d-4556-a7b0-fa7f40a16bf9"
   },
   "outputs": [],
   "source": [
    "def plot_confusion_matrix(cm, classes,\n",
    "                          normalize=False,\n",
    "                          title='Confusion matrix',\n",
    "                          cmap=plt.cm.Blues):\n",
    "    \"\"\"\n",
    "    This function prints and plots the confusion matrix.\n",
    "    Normalization can be applied by setting `normalize=True`.\n",
    "    \"\"\"\n",
    "    if normalize:\n",
    "        cm = cm.astype('float') / cm.sum(axis=1)[:, np.newaxis]\n",
    "        print(\"Normalized confusion matrix\")\n",
    "    else:\n",
    "        print('Confusion matrix, without normalization')\n",
    "\n",
    "    plt.imshow(cm, interpolation='nearest', cmap=cmap)\n",
    "    plt.title(title)\n",
    "    plt.colorbar()\n",
    "    tick_marks = np.arange(len(classes))\n",
    "    plt.xticks(tick_marks, classes, rotation=45)\n",
    "    plt.yticks(tick_marks, classes)\n",
    "\n",
    "    fmt = '.2f' if normalize else 'd'\n",
    "    thresh = cm.max() / 2.\n",
    "    for i, j in itertools.product(range(cm.shape[0]), range(cm.shape[1])):\n",
    "        plt.text(j, i, format(cm[i, j], fmt),\n",
    "                 horizontalalignment=\"center\",\n",
    "                 color=\"white\" if cm[i, j] > thresh else \"black\")\n",
    "\n",
    "    plt.tight_layout()\n",
    "    plt.ylabel('True label')\n",
    "    plt.xlabel('Predicted label')\n",
    "\n",
    "# Compute confusion matrix\n",
    "cnf_matrix = confusion_matrix(y_test.argmax(axis=1), y_pred.argmax(axis=1))\n",
    "np.set_printoptions(precision=2)\n",
    "\n",
    "# Plot non-normalized confusion matrix\n",
    "plt.figure(figsize=(10, 10))\n",
    "plot_confusion_matrix(cnf_matrix, classes=['N', 'S', 'V', 'F', 'Q'],\n",
    "                      title='Confusion matrix, with normalization',\n",
    "                      normalize=True)\n",
    "plt.show()"
   ]
  },
  {
   "cell_type": "markdown",
   "metadata": {
    "colab_type": "text",
    "id": "dXtlz07VhJZB"
   },
   "source": [
    "**Preguntas:**\n",
    "- Si tomamos todo lo que no sea normal como positivo, ¿el modelo se equivoca mas en falsos positivos o en falsos negativos?\n",
    "- ¿Que categoría genera mayor error?\n",
    "- ¿Existe overfitting?\n",
    "- ¿Como afecta batch_size al entrenamiento?"
   ]
  },
  {
   "cell_type": "markdown",
   "metadata": {
    "colab_type": "text",
    "id": "6jdUQrynhJZD"
   },
   "source": [
    "Ahora os toca a vosotros mejorar el modelo. Probad con otros optimizadores, cambiar la función de coste, volveros locos con el batch_size..... El paper del principio puede dar alguna pista. Como siempre, el que tenga la mejor score, ¡tiene premio!"
   ]
  }
 ],
 "metadata": {
  "colab": {
   "collapsed_sections": [],
   "name": "AISaturdays_ChallengeSession5.ipynb",
   "provenance": [
    {
     "file_id": "1eDULJv1udQFKK4WLY0M_f9jBxibhzmXs",
     "timestamp": 1583527306059
    }
   ]
  },
  "kernelspec": {
   "display_name": "Python 3",
   "language": "python",
   "name": "python3"
  },
  "language_info": {
   "codemirror_mode": {
    "name": "ipython",
    "version": 3
   },
   "file_extension": ".py",
   "mimetype": "text/x-python",
   "name": "python",
   "nbconvert_exporter": "python",
   "pygments_lexer": "ipython3",
   "version": "3.7.9"
  }
 },
 "nbformat": 4,
 "nbformat_minor": 1
}
