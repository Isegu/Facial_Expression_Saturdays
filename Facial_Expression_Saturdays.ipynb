{
 "cells": [
  {
   "cell_type": "markdown",
   "metadata": {
    "colab_type": "text",
    "id": "7mB-O_VvhJXQ"
   },
   "source": [
    "# **Facial Expressions Saturdays Ai**\n",
    "\n",
    "Proyecto de la primera edición de Donostia de Saturdays Ai 2020.\n"
   ]
  },
  {
   "cell_type": "markdown",
   "metadata": {},
   "source": [
    "1. Importación de librerías"
   ]
  },
  {
   "cell_type": "code",
   "execution_count": 10,
   "metadata": {},
   "outputs": [],
   "source": [
    "import numpy as np \n",
    "import pandas as pd\n",
    "import os\n",
    "import cv2\n",
    "from tqdm import tqdm\n",
    "from keras.utils import np_utils"
   ]
  },
  {
   "cell_type": "markdown",
   "metadata": {},
   "source": [
    "2. Importación data training"
   ]
  },
  {
   "cell_type": "code",
   "execution_count": 8,
   "metadata": {},
   "outputs": [],
   "source": [
    "labels = []\n",
    "\n",
    "for i in os.listdir('data/train/0'):\n",
    "    labels.append(0)\n",
    "for i in os.listdir('data/train/1'):\n",
    "    labels.append(1)\n",
    "for i in os.listdir('data/train/2'):\n",
    "    labels.append(2)\n",
    "for i in os.listdir('data/train/3'):\n",
    "    labels.append(3)\n",
    "for i in os.listdir('data/train/4'):\n",
    "    labels.append(4)\n",
    "for i in os.listdir('data/train/5'):\n",
    "    labels.append(5)\n",
    "for i in os.listdir('data/train/6'):\n",
    "    labels.append(6)"
   ]
  },
  {
   "cell_type": "code",
   "execution_count": 9,
   "metadata": {},
   "outputs": [
    {
     "name": "stderr",
     "output_type": "stream",
     "text": [
      "100%|██████████| 3995/3995 [00:40<00:00, 97.91it/s] \n",
      "100%|██████████| 436/436 [00:04<00:00, 102.49it/s]\n",
      "100%|██████████| 4097/4097 [00:39<00:00, 103.93it/s]\n",
      "100%|██████████| 7215/7215 [01:15<00:00, 95.86it/s] \n",
      "100%|██████████| 4830/4830 [00:49<00:00, 97.18it/s] \n",
      "100%|██████████| 3171/3171 [00:35<00:00, 88.36it/s] \n",
      "100%|██████████| 4965/4965 [00:58<00:00, 84.98it/s] \n"
     ]
    }
   ],
   "source": [
    "#feature extraction on training data\n",
    "\n",
    "loc1 = 'data/train/0'\n",
    "loc2 = 'data/train/1'\n",
    "loc3 = 'data/train/2'\n",
    "loc4 = 'data/train/3'\n",
    "loc5 = 'data/train/4'\n",
    "loc6 = 'data/train/5'\n",
    "loc7 = 'data/train/6'\n",
    "\n",
    "features = []\n",
    "\n",
    "for i in tqdm(os.listdir(loc1)):\n",
    "    features.append(cv2.imread(os.path.join(loc1,i),0))\n",
    "    \n",
    "for i in tqdm(os.listdir(loc2)):\n",
    "    features.append(cv2.imread(os.path.join(loc2,i),0))\n",
    "    \n",
    "for i in tqdm(os.listdir(loc3)):\n",
    "    features.append(cv2.imread(os.path.join(loc3,i),0))\n",
    "    \n",
    "for i in tqdm(os.listdir(loc4)):\n",
    "    features.append(cv2.imread(os.path.join(loc4,i),0))\n",
    "    \n",
    "for i in tqdm(os.listdir(loc5)):\n",
    "    features.append(cv2.imread(os.path.join(loc5,i),0))\n",
    "    \n",
    "for i in tqdm(os.listdir(loc6)):\n",
    "    features.append(cv2.imread(os.path.join(loc6,i),0))\n",
    "    \n",
    "for i in tqdm(os.listdir(loc7)):\n",
    "    features.append(cv2.imread(os.path.join(loc7,i),0))"
   ]
  },
  {
   "cell_type": "code",
   "execution_count": 11,
   "metadata": {},
   "outputs": [],
   "source": [
    "labels_test = []\n",
    "for i in os.listdir('data/test/0'):\n",
    "    labels_test.append(0)\n",
    "for i in os.listdir('data/test/1'):\n",
    "    labels_test.append(1)\n",
    "for i in os.listdir('data/test/2'):\n",
    "    labels_test.append(2)\n",
    "for i in os.listdir('data/test/3'):\n",
    "    labels_test.append(3)\n",
    "for i in os.listdir('data/test/4'):\n",
    "    labels_test.append(4)\n",
    "for i in os.listdir('data/test/5'):\n",
    "    labels_test.append(5)\n",
    "for i in os.listdir('data/test/6'):\n",
    "    labels_test.append(6)"
   ]
  },
  {
   "cell_type": "code",
   "execution_count": 12,
   "metadata": {},
   "outputs": [
    {
     "name": "stderr",
     "output_type": "stream",
     "text": [
      "100%|██████████| 491/491 [00:05<00:00, 97.37it/s] \n",
      "100%|██████████| 55/55 [00:00<00:00, 78.43it/s]\n",
      "100%|██████████| 528/528 [00:05<00:00, 91.39it/s] \n",
      "100%|██████████| 879/879 [00:08<00:00, 102.45it/s]\n",
      "100%|██████████| 594/594 [00:05<00:00, 101.71it/s]\n",
      "100%|██████████| 416/416 [00:04<00:00, 95.83it/s] \n",
      "100%|██████████| 626/626 [00:06<00:00, 96.20it/s] \n"
     ]
    }
   ],
   "source": [
    "#feature extraction on testing data\n",
    "\n",
    "loc1 = 'data/test/0'\n",
    "loc2 = 'data/test/1'\n",
    "loc3 = 'data/test/2'\n",
    "loc4 = 'data/test/3'\n",
    "loc5 = 'data/test/4'\n",
    "loc6 = 'data/test/5'\n",
    "loc7 = 'data/test/6'\n",
    "\n",
    "test_features = []\n",
    "\n",
    "for i in tqdm(os.listdir(loc1)):\n",
    "    test_features.append(cv2.imread(os.path.join(loc1,i),0))\n",
    "    \n",
    "for i in tqdm(os.listdir(loc2)):\n",
    "    test_features.append(cv2.imread(os.path.join(loc2,i),0))\n",
    "    \n",
    "for i in tqdm(os.listdir(loc3)):\n",
    "    test_features.append(cv2.imread(os.path.join(loc3,i),0))\n",
    "    \n",
    "for i in tqdm(os.listdir(loc4)):\n",
    "    test_features.append(cv2.imread(os.path.join(loc4,i),0))\n",
    "    \n",
    "for i in tqdm(os.listdir(loc5)):\n",
    "    test_features.append(cv2.imread(os.path.join(loc5,i),0))\n",
    "    \n",
    "for i in tqdm(os.listdir(loc6)):\n",
    "    test_features.append(cv2.imread(os.path.join(loc6,i),0))\n",
    "    \n",
    "for i in tqdm(os.listdir(loc7)):\n",
    "    test_features.append(cv2.imread(os.path.join(loc7,i),0))"
   ]
  },
  {
   "cell_type": "code",
   "execution_count": 13,
   "metadata": {},
   "outputs": [],
   "source": [
    "train_data = pd.DataFrame()\n",
    "test_data = pd.DataFrame()"
   ]
  },
  {
   "cell_type": "code",
   "execution_count": 14,
   "metadata": {},
   "outputs": [],
   "source": [
    "train_data['emotion'] = labels\n",
    "train_data['pixel_values'] = features\n",
    "test_data['emotion'] = labels_test\n",
    "test_data['pixel_values'] = test_features"
   ]
  },
  {
   "cell_type": "code",
   "execution_count": 15,
   "metadata": {},
   "outputs": [
    {
     "data": {
      "text/html": [
       "<div>\n",
       "<style scoped>\n",
       "    .dataframe tbody tr th:only-of-type {\n",
       "        vertical-align: middle;\n",
       "    }\n",
       "\n",
       "    .dataframe tbody tr th {\n",
       "        vertical-align: top;\n",
       "    }\n",
       "\n",
       "    .dataframe thead th {\n",
       "        text-align: right;\n",
       "    }\n",
       "</style>\n",
       "<table border=\"1\" class=\"dataframe\">\n",
       "  <thead>\n",
       "    <tr style=\"text-align: right;\">\n",
       "      <th></th>\n",
       "      <th>emotion</th>\n",
       "      <th>pixel_values</th>\n",
       "    </tr>\n",
       "  </thead>\n",
       "  <tbody>\n",
       "    <tr>\n",
       "      <th>0</th>\n",
       "      <td>0</td>\n",
       "      <td>[[70, 80, 82, 72, 58, 58, 60, 63, 54, 58, 60, ...</td>\n",
       "    </tr>\n",
       "    <tr>\n",
       "      <th>1</th>\n",
       "      <td>0</td>\n",
       "      <td>[[151, 150, 147, 155, 148, 133, 111, 140, 170,...</td>\n",
       "    </tr>\n",
       "    <tr>\n",
       "      <th>2</th>\n",
       "      <td>0</td>\n",
       "      <td>[[30, 24, 21, 23, 25, 25, 49, 67, 84, 103, 120...</td>\n",
       "    </tr>\n",
       "    <tr>\n",
       "      <th>3</th>\n",
       "      <td>0</td>\n",
       "      <td>[[32, 25, 19, 55, 46, 35, 34, 48, 92, 101, 33,...</td>\n",
       "    </tr>\n",
       "    <tr>\n",
       "      <th>4</th>\n",
       "      <td>0</td>\n",
       "      <td>[[223, 218, 199, 191, 202, 205, 194, 133, 103,...</td>\n",
       "    </tr>\n",
       "  </tbody>\n",
       "</table>\n",
       "</div>"
      ],
      "text/plain": [
       "   emotion                                       pixel_values\n",
       "0        0  [[70, 80, 82, 72, 58, 58, 60, 63, 54, 58, 60, ...\n",
       "1        0  [[151, 150, 147, 155, 148, 133, 111, 140, 170,...\n",
       "2        0  [[30, 24, 21, 23, 25, 25, 49, 67, 84, 103, 120...\n",
       "3        0  [[32, 25, 19, 55, 46, 35, 34, 48, 92, 101, 33,...\n",
       "4        0  [[223, 218, 199, 191, 202, 205, 194, 133, 103,..."
      ]
     },
     "execution_count": 15,
     "metadata": {},
     "output_type": "execute_result"
    }
   ],
   "source": [
    "train_data.head()"
   ]
  },
  {
   "cell_type": "code",
   "execution_count": 16,
   "metadata": {},
   "outputs": [
    {
     "data": {
      "text/html": [
       "<div>\n",
       "<style scoped>\n",
       "    .dataframe tbody tr th:only-of-type {\n",
       "        vertical-align: middle;\n",
       "    }\n",
       "\n",
       "    .dataframe tbody tr th {\n",
       "        vertical-align: top;\n",
       "    }\n",
       "\n",
       "    .dataframe thead th {\n",
       "        text-align: right;\n",
       "    }\n",
       "</style>\n",
       "<table border=\"1\" class=\"dataframe\">\n",
       "  <thead>\n",
       "    <tr style=\"text-align: right;\">\n",
       "      <th></th>\n",
       "      <th>emotion</th>\n",
       "      <th>pixel_values</th>\n",
       "    </tr>\n",
       "  </thead>\n",
       "  <tbody>\n",
       "    <tr>\n",
       "      <th>0</th>\n",
       "      <td>0</td>\n",
       "      <td>[[170, 118, 101, 88, 88, 75, 78, 82, 66, 74, 6...</td>\n",
       "    </tr>\n",
       "    <tr>\n",
       "      <th>1</th>\n",
       "      <td>0</td>\n",
       "      <td>[[138, 142, 66, 80, 87, 92, 97, 99, 88, 73, 72...</td>\n",
       "    </tr>\n",
       "    <tr>\n",
       "      <th>2</th>\n",
       "      <td>0</td>\n",
       "      <td>[[245, 245, 239, 122, 144, 101, 33, 37, 84, 13...</td>\n",
       "    </tr>\n",
       "    <tr>\n",
       "      <th>3</th>\n",
       "      <td>0</td>\n",
       "      <td>[[215, 218, 222, 220, 221, 226, 218, 215, 216,...</td>\n",
       "    </tr>\n",
       "    <tr>\n",
       "      <th>4</th>\n",
       "      <td>0</td>\n",
       "      <td>[[58, 52, 55, 62, 59, 42, 40, 45, 43, 39, 40, ...</td>\n",
       "    </tr>\n",
       "  </tbody>\n",
       "</table>\n",
       "</div>"
      ],
      "text/plain": [
       "   emotion                                       pixel_values\n",
       "0        0  [[170, 118, 101, 88, 88, 75, 78, 82, 66, 74, 6...\n",
       "1        0  [[138, 142, 66, 80, 87, 92, 97, 99, 88, 73, 72...\n",
       "2        0  [[245, 245, 239, 122, 144, 101, 33, 37, 84, 13...\n",
       "3        0  [[215, 218, 222, 220, 221, 226, 218, 215, 216,...\n",
       "4        0  [[58, 52, 55, 62, 59, 42, 40, 45, 43, 39, 40, ..."
      ]
     },
     "execution_count": 16,
     "metadata": {},
     "output_type": "execute_result"
    }
   ],
   "source": [
    "test_data.head()"
   ]
  },
  {
   "cell_type": "code",
   "execution_count": 17,
   "metadata": {},
   "outputs": [
    {
     "data": {
      "image/png": "[encoded data removed]",
      "text/plain": [
       "<Figure size 1440x576 with 2 Axes>"
      ]
     },
     "metadata": {
      "needs_background": "light"
     },
     "output_type": "display_data"
    }
   ],
   "source": [
    "emotion_labels = ['Angry', 'Disgust', 'Fear', 'Happy', 'Sad', 'Surprise', 'Neutral']\n",
    "\n",
    "def setup_axe(axe,df,title):\n",
    "    df['emotion'].value_counts(sort=False).plot(ax=axe, kind='bar', rot=0)\n",
    "    axe.set_xticklabels(emotion_labels)\n",
    "    axe.set_xlabel(\"Emotions\")\n",
    "    axe.set_ylabel(\"Count\")\n",
    "    axe.set_title(title)\n",
    "    \n",
    "    # set individual bar lables using above list\n",
    "    for i in axe.patches:\n",
    "         axe.text(i.get_x()-.05, i.get_height()+120, \\\n",
    "                str(round((i.get_height()), 2)), fontsize=14, color='red',\n",
    "                    rotation=0)\n",
    "\n",
    "import matplotlib.pyplot as plt   \n",
    "fig, axes = plt.subplots(1,2, figsize=(20,8), sharey=True)\n",
    "setup_axe(axes[0],train_data,'train')\n",
    "setup_axe(axes[1],test_data,'test')\n",
    "plt.show()"
   ]
  },
  {
   "cell_type": "code",
   "execution_count": 18,
   "metadata": {},
   "outputs": [
    {
     "name": "stderr",
     "output_type": "stream",
     "text": [
      "Using TensorFlow backend.\n"
     ]
    }
   ],
   "source": [
    "features = np.array(features).reshape(-1,48,48,1)\n",
    "test_features = np.array(test_features).reshape(-1,48,48,1)\n",
    "\n",
    "features = features/255\n",
    "test_features = test_features/255\n",
    "\n",
    "labels = np_utils.to_categorical(labels)\n",
    "labels_test =np_utils.to_categorical(labels_test)"
   ]
  },
  {
   "cell_type": "code",
   "execution_count": 19,
   "metadata": {},
   "outputs": [
    {
     "name": "stdout",
     "output_type": "stream",
     "text": [
      "Training features shape  (28709, 48, 48, 1)\n",
      "Training labels shape (28709, 7)\n",
      "Testing features shape  (3589, 48, 48, 1)\n",
      "Testing labels shape (3589, 7)\n"
     ]
    }
   ],
   "source": [
    "print('Training features shape ',features.shape)\n",
    "print('Training labels shape',labels.shape)\n",
    "print('Testing features shape ',test_features.shape)\n",
    "print('Testing labels shape',labels_test.shape)"
   ]
  }
 ],
 "metadata": {
  "colab": {
   "collapsed_sections": [],
   "name": "AISaturdays_ChallengeSession5.ipynb",
   "provenance": [
    {
     "file_id": "1eDULJv1udQFKK4WLY0M_f9jBxibhzmXs",
     "timestamp": 1583527306059
    }
   ]
  },
  "kernelspec": {
   "display_name": "Python 3",
   "language": "python",
   "name": "python3"
  },
  "language_info": {
   "codemirror_mode": {
    "name": "ipython",
    "version": 3
   },
   "file_extension": ".py",
   "mimetype": "text/x-python",
   "name": "python",
   "nbconvert_exporter": "python",
   "pygments_lexer": "ipython3",
   "version": "3.7.9"
  }
 },
 "nbformat": 4,
 "nbformat_minor": 1
}
